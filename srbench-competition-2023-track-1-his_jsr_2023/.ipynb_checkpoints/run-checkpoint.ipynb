{
 "cells": [
  {
   "cell_type": "code",
   "execution_count": 4,
   "id": "7ae27a47",
   "metadata": {},
   "outputs": [
    {
     "name": "stdout",
     "output_type": "stream",
     "text": [
      "-0.0012777831848536092 17 0.08551798260799069*x0 - 0.00670688275565787*x2 - 0.0047566982970982516*x4 - 0.02041331998043954*x6 - 0.034272645941507265*x7 - 0.061889602053649025\n",
      "0.09715552839364439 5 x5/x3\n",
      "0.0025825709242290884 23 -0.0019599676933630458*x1 - 0.0005229598165321627*x10 + 7.162350305406234e-5*x13 - 0.0009928500252631746*x14 - 0.0002870054321218585*x2 - 0.002376520502176837*x4 + 5.436209210113286e-6*x9 + 0.04775351580625009\n"
     ]
    }
   ],
   "source": [
    "%run scores_test.py"
   ]
  },
  {
   "cell_type": "code",
   "execution_count": null,
   "id": "3ce1367d",
   "metadata": {},
   "outputs": [],
   "source": []
  }
 ],
 "metadata": {
  "kernelspec": {
   "display_name": "Python 3 (ipykernel)",
   "language": "python",
   "name": "python3"
  },
  "language_info": {
   "codemirror_mode": {
    "name": "ipython",
    "version": 3
   },
   "file_extension": ".py",
   "mimetype": "text/x-python",
   "name": "python",
   "nbconvert_exporter": "python",
   "pygments_lexer": "ipython3",
   "version": "3.10.9"
  }
 },
 "nbformat": 4,
 "nbformat_minor": 5
}
